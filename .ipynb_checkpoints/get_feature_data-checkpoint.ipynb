{
 "cells": [
  {
   "cell_type": "code",
   "execution_count": null,
   "metadata": {},
   "outputs": [],
   "source": [
    "import numpy as np\n",
    "import matplotlib.pyplot as plt\n",
    "import matplotlib\n",
    "import seaborn as sns\n",
    "import pandas as pd\n",
    "import firebase_admin\n",
    "from firebase_admin import credentials, firestore, db\n",
    "import json\n",
    "import random"
   ]
  },
  {
   "cell_type": "code",
   "execution_count": null,
   "metadata": {},
   "outputs": [],
   "source": [
    "cred = credentials.Certificate('/Users/evanrussek/server_keys/feature_task_key.json')\n",
    "#cred = credentials.Certificate('C:\\\\Users\\\\erussek\\\\forage_jsp\\\\analysis\\\\foragetask-firebase-private-key.json')\n",
    "default_app = firebase_admin.initialize_app(cred)\n",
    "client = firestore.client()"
   ]
  },
  {
   "cell_type": "code",
   "execution_count": null,
   "metadata": {},
   "outputs": [],
   "source": [
    "dfs = []\n",
    "for subj in client.collection('featuretask').document('run1b').collection('subjects').stream():\n",
    "    taskdata_collection = client.collection('featuretask/run1b/subjects/{0}/taskdata'.format(subj.id)).stream()\n",
    "    subjectID = subj.id\n",
    "    has_data = False # did this subject finish the task?\\n\",\n",
    "    has_start = False\n",
    "    for tc in taskdata_collection:\n",
    "        if tc.id == \"start\":\n",
    "            has_start = True\n",
    "            start_dict = tc.to_dict()\n",
    "            subjectID = start_dict['subjectID']    \n",
    "        else:\n",
    "            has_data = True\n",
    "            task_dict = tc.to_dict()\n",
    "            sub_data = json.loads(task_dict['data'])\n",
    "            sub_df = pd.DataFrame(sub_data)\n",
    "        \n",
    "    if has_start & has_data & (len(str(subjectID))>20):\n",
    "        print(subj.id)\n",
    "        sub_df[\"subjectID\"] = subjectID\n",
    "        dfs.append(sub_df)\n",
    "\n",
    "combined_df = pd.concat(dfs, sort = True)\n",
    "combined_df.to_csv('data/run1b_data.csv');\n",
    "\n",
    "\n",
    "    "
   ]
  },
  {
   "cell_type": "code",
   "execution_count": null,
   "metadata": {},
   "outputs": [],
   "source": [
    "# get one subject dfs\n",
    "bonus_df = pd.DataFrame()\n",
    "subj_IDs = combined_df.subjectID.unique()\n",
    "for i in range(len(subj_IDs)):\n",
    "    s1_data = combined_df[combined_df[\"subjectID\"] == subj_IDs[i]]\n",
    "    rr = s1_data.reward_received[~np.isnan(s1_data.reward_received)][6:]\n",
    "    bonus_points = np.sum(rr.sample(5))\n",
    "    bonus_pct = (bonus_points + 15)/30\n",
    "    bonus = 2*bonus_pct\n",
    "    bonus_dict = {'subjectID': subj_IDs[i], 'bonus': bonus}\n",
    "    bonus_df = bonus_df.append(bonus_dict, ignore_index = True)\n",
    "\n",
    "bonus_df[['subjectID', 'bonus']].to_csv('bonus_files/run1b_bonus_payments.csv', sep = ',', header = False, index = False)"
   ]
  }
 ],
 "metadata": {
  "kernelspec": {
   "display_name": "Python 3",
   "language": "python",
   "name": "python3"
  },
  "language_info": {
   "codemirror_mode": {
    "name": "ipython",
    "version": 3
   },
   "file_extension": ".py",
   "mimetype": "text/x-python",
   "name": "python",
   "nbconvert_exporter": "python",
   "pygments_lexer": "ipython3",
   "version": "3.8.5"
  }
 },
 "nbformat": 4,
 "nbformat_minor": 4
}
